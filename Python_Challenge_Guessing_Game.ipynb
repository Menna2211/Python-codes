{
  "cells": [
    {
      "cell_type": "markdown",
      "metadata": {
        "id": "NQuOyznPahpH"
      },
      "source": [
        "# Guessing Game Challenge\n",
        "\n",
        "Let's use `while` loops to create a guessing game.\n",
        "\n",
        "The Challenge:\n",
        "\n",
        "Write a program that picks a random integer from 1 to 100, and has players guess the number. The rules are:\n",
        "\n",
        "1. If a player's guess is less than 1 or greater than 100, say \"OUT OF BOUNDS\"\n",
        "\n",
        "2. On all turns, if a guess is\n",
        " * closer to the number than the previous guess return \"Closer!\"\n",
        " * farther from the number than the previous guess, return \"Farther!\"\n",
        "3. When the player's guess equals the number, tell them they've guessed correctly *and* how many guesses it took!\n",
        "\n",
        "Now Lets o fro the Steps!"
      ]
    },
    {
      "cell_type": "markdown",
      "metadata": {
        "id": "6K7SSiaEahpK"
      },
      "source": [
        "#### First, Build a Line of Code that can Return arandom integer from 1 to 100 and store this number in object called Actual"
      ]
    },
    {
      "cell_type": "code",
      "execution_count": null,
      "metadata": {
        "colab": {
          "base_uri": "https://localhost:8080/"
        },
        "id": "8R7ayXGwahpL",
        "outputId": "acd5cfcb-753b-4cb2-f4e1-4a8935d2b6c5"
      },
      "outputs": [
        {
          "data": {
            "text/plain": [
              "6"
            ]
          },
          "execution_count": 6,
          "metadata": {},
          "output_type": "execute_result"
        }
      ],
      "source": [
        "#Type Your Code Here  - Replace None with Correct  Function\n",
        "from random import randint\n",
        "Actual = randint(1,100)\n",
        "Actual"
      ]
    },
    {
      "cell_type": "markdown",
      "metadata": {
        "id": "la65uFUjahpO"
      },
      "source": [
        "#### Next, build a Code to display an introduction to the Game to tell the user the Boundaries from 1 to 100 and what is his target."
      ]
    },
    {
      "cell_type": "code",
      "execution_count": null,
      "metadata": {
        "colab": {
          "base_uri": "https://localhost:8080/"
        },
        "id": "cpMGPRNT7F-J",
        "outputId": "07d30497-1692-4372-8ad6-9bc8fbfe502f"
      },
      "outputs": [
        {
          "name": "stdout",
          "output_type": "stream",
          "text": [
            "welcome to Guessing Game Challenge \n",
            "\n",
            "The game picks a random integer from 1 to 100 \n",
            "\n",
            "Then you have to guess the number \n",
            "\n"
          ]
        }
      ],
      "source": [
        "#Type Your Code here\n",
        "print('welcome to Guessing Game Challenge \\n')\n",
        "print('The game picks a random integer from 1 to 100 \\n')\n",
        "print ('Then you have to guess the number \\n')"
      ]
    },
    {
      "cell_type": "markdown",
      "metadata": {
        "id": "GyW_z6Sf74yG"
      },
      "source": [
        "### Next, Build a Code that takes an integer input from the user"
      ]
    },
    {
      "cell_type": "code",
      "execution_count": null,
      "metadata": {
        "colab": {
          "base_uri": "https://localhost:8080/"
        },
        "id": "UZCNvK4o82k-",
        "outputId": "b8c86ca9-729b-4432-f402-8b34f27775bd"
      },
      "outputs": [
        {
          "name": "stdout",
          "output_type": "stream",
          "text": [
            "Enter the guess integer number: 20\n"
          ]
        }
      ],
      "source": [
        "#Type Your Code Here - Replace None With Correct Function\n",
        "Guess= int(input('Enter the guess integer number: '))"
      ]
    },
    {
      "cell_type": "markdown",
      "metadata": {
        "id": "BHsh0slo834l"
      },
      "source": [
        "### Next, Put the Upper Cell in A Loop that keeps checking if the Number is Out of Bounds or Not  "
      ]
    },
    {
      "cell_type": "code",
      "execution_count": null,
      "metadata": {
        "id": "Xx00D-J89xsk"
      },
      "outputs": [],
      "source": [
        "#Replace None Values with correct conditions or Booleans\n",
        "while (Actual != Guess):\n",
        "  # Take input from user\n",
        "  if  (Guess <1) or (Guess > 100):\n",
        "   # if right then print something\n",
        "      print('OUT OF BOUNDS')\n",
        "      Guess= int(input('Re enter the guess integer number: '))\n",
        "  #and if not print another thing\n",
        "  break\n"
      ]
    },
    {
      "cell_type": "markdown",
      "metadata": {
        "id": "d-USlvx8dNak"
      },
      "source": [
        "### Next, Build a Code that Check if the Guess is equal to the Actual Random Number"
      ]
    },
    {
      "cell_type": "code",
      "execution_count": null,
      "metadata": {
        "id": "E95mJnFNdfiW"
      },
      "outputs": [],
      "source": [
        "guesses=[] #Make it an Empty List\n",
        "#Change None to Correct Boolean between\n",
        "if  Actual ==Guess :\n",
        "  print (\"Wow, you've guessed Correctly this time\") #Fix\n",
        "  'You have guessed it in {} times'.format(guesses) # Put function that calculate the Real Number of Guesses"
      ]
    },
    {
      "cell_type": "markdown",
      "metadata": {
        "id": "VWNf49z6WVek"
      },
      "source": [
        "### Next, Build a Code that Check on Each Guess whether its closer than the Previous Guess or not."
      ]
    },
    {
      "cell_type": "code",
      "execution_count": null,
      "metadata": {
        "id": "O7McDw6pbVfX"
      },
      "outputs": [],
      "source": [
        "\n",
        "while(Actual != Guess):\n",
        "  if  Guess < Actual :\n",
        "    print(' you are closer to target ')\n",
        "    Guess= int(input('Enter the guess integer number again: '))\n",
        "  else:\n",
        "     print(' you are far from the target ')\n",
        "     Guess= int(input('Enter the guess integer number again: '))\n",
        "\n"
      ]
    },
    {
      "cell_type": "markdown",
      "metadata": {
        "id": "v-wMuTZLahpY"
      },
      "source": [
        "#### Write a `while` loop that compares the player's guess to our number. If the player guesses correctly, break from the loop. Otherwise, tell the player if they're Closer or Farer , and continue asking for guesses.\n",
        "\n",
        "**Try to Collect All the cells you 've made above and use it here**\n",
        "\n",
        "Hint:\n",
        "\n",
        "\n",
        "* you can use the `abs()` function to find the positive difference between two numbers\n",
        "\n",
        "\n",
        "# Decomposition\n",
        "\n",
        "*   Choosing Random Number\n",
        "*   Game Intro for the User\n",
        "*   Checking on the Inserted Guess if its in boundary or not\n",
        "*   Checking on the Inserted Guess if its equal to the Random Number or Not\n",
        "*   Checking on the Inserted Guess if its Far or Close from the Previous Guess.\n",
        "\n",
        "\n",
        "\n"
      ]
    },
    {
      "cell_type": "code",
      "execution_count": null,
      "metadata": {
        "colab": {
          "base_uri": "https://localhost:8080/"
        },
        "id": "FaifUKKUahpZ",
        "outputId": "9522b511-63ac-4cf7-8d10-edd0a07e6684"
      },
      "outputs": [
        {
          "output_type": "stream",
          "name": "stdout",
          "text": [
            "100\n",
            "welcome to Guessing Game Challenge \n",
            "\n",
            "The game picks a random integer from 1 to 100 \n",
            "\n",
            "Then you have to guess the number \n",
            "\n",
            "Enter the guess integer number: 90\n",
            " you are far from to target \n",
            "Enter the guess integer number again: 60\n",
            " you are far from to target \n",
            "Enter the guess integer number again: 80\n",
            " you are closer to target \n",
            "Enter the guess integer number again: 89\n",
            " you are closer to target \n",
            "Enter the guess integer number again: 95\n",
            " you are closer to target \n",
            "Enter the guess integer number again: 98\n",
            " you are closer to target \n",
            "Enter the guess integer number again: 100\n",
            "Wow, you've guessed Correctly this time , 'You have guessed it in 7 times\n"
          ]
        }
      ],
      "source": [
        "# Type your Final Code here\n",
        "from random import randint\n",
        "Actual = randint(1,100)\n",
        "print(Actual)\n",
        "print('welcome to Guessing Game Challenge \\n')\n",
        "print('The game picks a random integer from 1 to 100 \\n')\n",
        "print ('Then you have to guess the number \\n')\n",
        "\n",
        "Guess= int(input('Enter the guess integer number: '))\n",
        "temp=Guess\n",
        "guesses=1\n",
        "while (Actual != Guess):\n",
        "      guesses +=1\n",
        "      if  (Guess <1) or (Guess > 100):\n",
        "      # if right then print something\n",
        "        print('OUT OF BOUNDS')\n",
        "        Guess= int(input('Enter the guess integer number again: '))\n",
        "        temp=Guess\n",
        "      if abs((Actual -Guess)) == abs((Actual - temp)) :\n",
        "          print (\" you are far from to target \")\n",
        "          temp=Guess\n",
        "          Guess= int(input('Enter the guess integer number again: '))\n",
        "\n",
        "      elif abs( (Actual -Guess)) > abs((Actual -temp)):\n",
        "          print (\" you are far from to target \")\n",
        "          temp=Guess\n",
        "          Guess= int(input('Enter the guess integer number again: '))\n",
        "      else:\n",
        "          print (\" you are closer to target \")\n",
        "          temp=Guess\n",
        "          Guess= int(input('Enter the guess integer number again: '))\n",
        "\n",
        "print (\"Wow, you've guessed Correctly this time , 'You have guessed it in {} times\".format(guesses))\n",
        ""
      ]
    },
    {
      "cell_type": "markdown",
      "metadata": {
        "id": "5UZ7l5wEahpb"
      },
      "source": [
        "That's it! You've just programmed your first game!\n",
        "\n",
        "In the next section we'll learn how to turn some of these repetitive actions into *functions* that can be called whenever we need them."
      ]
    },
    {
      "cell_type": "markdown",
      "metadata": {
        "id": "HlHfgyZ9ahpc"
      },
      "source": [
        "### Good Job!"
      ]
    }
  ],
  "metadata": {
    "colab": {
      "provenance": []
    },
    "kernelspec": {
      "display_name": "Python 3",
      "language": "python",
      "name": "python3"
    },
    "language_info": {
      "codemirror_mode": {
        "name": "ipython",
        "version": 3
      },
      "file_extension": ".py",
      "mimetype": "text/x-python",
      "name": "python",
      "nbconvert_exporter": "python",
      "pygments_lexer": "ipython3",
      "version": "3.6.2"
    }
  },
  "nbformat": 4,
  "nbformat_minor": 0
}