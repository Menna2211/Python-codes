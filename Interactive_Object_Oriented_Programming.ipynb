{
  "cells": [
    {
      "cell_type": "markdown",
      "metadata": {
        "collapsed": true,
        "id": "maQz771-FHKO"
      },
      "source": [
        "# Object Oriented Programming\n",
        "\n",
        "Lets start the lesson by remembering about the Basic Python Objects. For example:"
      ]
    },
    {
      "cell_type": "code",
      "source": [
        "x = 10"
      ],
      "metadata": {
        "id": "xrdVXGbSa1FD"
      },
      "execution_count": null,
      "outputs": []
    },
    {
      "cell_type": "code",
      "source": [
        "print(x)"
      ],
      "metadata": {
        "colab": {
          "base_uri": "https://localhost:8080/"
        },
        "id": "6K7XCohxa1C2",
        "outputId": "fe1201a1-a190-4f6b-8af9-b5ba73532a8e"
      },
      "execution_count": null,
      "outputs": [
        {
          "output_type": "stream",
          "name": "stdout",
          "text": [
            "10\n"
          ]
        }
      ]
    },
    {
      "cell_type": "code",
      "source": [],
      "metadata": {
        "id": "Z26vJdmaa1HD"
      },
      "execution_count": null,
      "outputs": []
    },
    {
      "cell_type": "code",
      "execution_count": null,
      "metadata": {
        "id": "z8f1DOaKFHKR"
      },
      "outputs": [],
      "source": [
        "lst = [1,2,3]"
      ]
    },
    {
      "cell_type": "markdown",
      "metadata": {
        "id": "Dusfh8qoFHKV"
      },
      "source": [
        "Remember how we could call methods on a list?"
      ]
    },
    {
      "cell_type": "code",
      "execution_count": null,
      "metadata": {
        "colab": {
          "base_uri": "https://localhost:8080/",
          "height": 34
        },
        "id": "gx2vBOG3FHKW",
        "outputId": "8029225a-da7d-41ee-8f54-0a21fb5300cf"
      },
      "outputs": [
        {
          "data": {
            "text/plain": [
              "1"
            ]
          },
          "execution_count": 2,
          "metadata": {},
          "output_type": "execute_result"
        }
      ],
      "source": [
        "lst.count(2)"
      ]
    },
    {
      "cell_type": "markdown",
      "metadata": {
        "id": "L_Go-knbFHKf"
      },
      "source": [
        "What we will basically be doing in this lecture is exploring how we could create an Object type like a list. We've already learned about how to create functions. So let's explore Objects in general:\n",
        "\n",
        "## Objects\n",
        "In Python, **everything is an object**. Remember from previous lectures we can use type() to check the type of object something is:"
      ]
    },
    {
      "cell_type": "code",
      "execution_count": null,
      "metadata": {
        "colab": {
          "base_uri": "https://localhost:8080/",
          "height": 85
        },
        "id": "LZcXMukiFHKf",
        "outputId": "6c693e94-ff84-4f9d-bd84-23d8c04b1925"
      },
      "outputs": [
        {
          "name": "stdout",
          "output_type": "stream",
          "text": [
            "<class 'int'>\n",
            "<class 'list'>\n",
            "<class 'tuple'>\n",
            "<class 'dict'>\n"
          ]
        }
      ],
      "source": [
        "print(type(1))\n",
        "print(type([]))\n",
        "print(type(()))\n",
        "print(type({}))"
      ]
    },
    {
      "cell_type": "markdown",
      "metadata": {
        "id": "Kd4AGMB1FHKi"
      },
      "source": [
        "So we know all these things are objects, so how can we create our **own** Object types? That is where the <code>class</code> keyword comes in.\n",
        "## Class  (Your Own Object)\n",
        "User defined objects are created using the <code>class</code> keyword. The class is a blueprint that defines the nature of a future object. From classes we can construct instances. An instance is a specific object created from a particular class. For example, above we created the object <code>lst</code> which was an instance of a list object.\n",
        "\n",
        "Let see how we can use <code>class</code>:"
      ]
    },
    {
      "cell_type": "code",
      "execution_count": null,
      "metadata": {
        "colab": {
          "base_uri": "https://localhost:8080/",
          "height": 34
        },
        "id": "qlG-NnsSFHKj",
        "outputId": "b16ba5e2-6b15-40c8-a4bb-5804a9542200"
      },
      "outputs": [
        {
          "name": "stdout",
          "output_type": "stream",
          "text": [
            "<class '__main__.Sample'>\n"
          ]
        }
      ],
      "source": [
        "# Create a new object type called Sample\n",
        "class Sample:\n",
        "    pass\n",
        "\n",
        "# Instance of Sample\n",
        "x = Sample()\n",
        "\n",
        "print(type(x))"
      ]
    },
    {
      "cell_type": "markdown",
      "metadata": {
        "id": "4o2UU_bRFHKp"
      },
      "source": [
        "By convention we give classes a name that starts with a capital letter. Note how <code>x</code> is now the reference to our new instance of a Sample class. In other words, we **instantiate** the Sample class.\n",
        "\n",
        "Inside of the class we currently just have pass. But we can define class attributes and methods.\n",
        "\n",
        "An **attribute** is a characteristic of an object.\n",
        "A **method** is an operation we can perform with the object.\n",
        "\n",
        "For example, we can create a class called Egypt. An attribute of a TokTok may be its name, while a method of a Tokotok may be defined by a .Calacs() method which returns a sound.\n",
        "\n",
        "Let's get a better understanding of attributes through an example.\n",
        "\n",
        "## Attributes\n",
        "\n",
        "The syntax for creating an attribute is:\n",
        "    \n",
        "    self.attribute = something\n",
        "    \n",
        "There is a special method called:\n",
        "\n",
        "    __init__()\n",
        "\n",
        "This method is used to initialize the attributes of an object. For example:"
      ]
    },
    {
      "cell_type": "code",
      "execution_count": null,
      "metadata": {
        "id": "45gkjjQTFHKq"
      },
      "outputs": [],
      "source": [
        "class TokTok:\n",
        "    def __init__(self,Name):\n",
        "        self.Name = Name\n",
        "\n",
        "TokTok_Ahmed = TokTok('Azza')\n",
        "TokTok_Sh3ban = TokTok(Name='Fatkat')"
      ]
    },
    {
      "cell_type": "code",
      "execution_count": null,
      "metadata": {
        "colab": {
          "base_uri": "https://localhost:8080/",
          "height": 34
        },
        "id": "V05b60wkxjTU",
        "outputId": "eebc52b7-75e2-4e20-e366-126428aaf277"
      },
      "outputs": [
        {
          "data": {
            "text/plain": [
              "'Azza'"
            ]
          },
          "execution_count": 6,
          "metadata": {},
          "output_type": "execute_result"
        }
      ],
      "source": [
        "TokTok_Ahmed.Name"
      ]
    },
    {
      "cell_type": "code",
      "execution_count": null,
      "metadata": {
        "colab": {
          "base_uri": "https://localhost:8080/",
          "height": 34
        },
        "id": "EizYTaAKgZGi",
        "outputId": "30aacf00-af1a-44eb-c576-822c4fc72b44"
      },
      "outputs": [
        {
          "data": {
            "text/plain": [
              "'Fatkat'"
            ]
          },
          "execution_count": 7,
          "metadata": {},
          "output_type": "execute_result"
        }
      ],
      "source": [
        "TokTok_Sh3ban.Name"
      ]
    },
    {
      "cell_type": "markdown",
      "metadata": {
        "id": "nOEQMmQCFHKt"
      },
      "source": [
        "Lets break down what we have above.The special method\n",
        "\n",
        "    __init__()\n",
        "is called automatically right after the object has been created:\n",
        "\n",
        "    def __init__(self, Name):\n",
        "Each attribute in a class definition begins with a reference to the instance object. It is by convention named self. The Name is the argument. The value is passed during the class instantiation.\n",
        "\n",
        "     self.Name = Name"
      ]
    },
    {
      "cell_type": "markdown",
      "metadata": {
        "id": "sjfHLcNcFHKv"
      },
      "source": [
        "Now we have created two **instances** of the TokTok class. With two Name types, we can then access these attributes like this:"
      ]
    },
    {
      "cell_type": "code",
      "execution_count": null,
      "metadata": {
        "colab": {
          "base_uri": "https://localhost:8080/",
          "height": 34
        },
        "id": "gO-UW9B5FHKw",
        "outputId": "9229a378-c300-4c71-c349-688d0b4e51a5"
      },
      "outputs": [
        {
          "data": {
            "text/plain": [
              "'Azza'"
            ]
          },
          "execution_count": 8,
          "metadata": {},
          "output_type": "execute_result"
        }
      ],
      "source": [
        "TokTok_Ahmed.Name"
      ]
    },
    {
      "cell_type": "code",
      "execution_count": null,
      "metadata": {
        "colab": {
          "base_uri": "https://localhost:8080/",
          "height": 34
        },
        "id": "4mCSslJYFHKz",
        "outputId": "49ec5432-598b-4241-da8e-8cfcdcb61b6b"
      },
      "outputs": [
        {
          "data": {
            "text/plain": [
              "'Fatkat'"
            ]
          },
          "execution_count": 9,
          "metadata": {},
          "output_type": "execute_result"
        }
      ],
      "source": [
        "TokTok_Sh3ban.Name"
      ]
    },
    {
      "cell_type": "markdown",
      "metadata": {
        "id": "ZnojZWSTFHK2"
      },
      "source": [
        "Note how we don't have any parentheses after breed; this is because it is an attribute and doesn't take any arguments.\n",
        "\n",
        "In Python there are also *class object attributes*. These Class Object Attributes are the same for any instance of the class. For example, we could create the attribute *Wheels* for the Toktok class. Toktoks, regardless of their Name, name, or other attributes, will always have three Wheels. We apply this logic in the following manner:"
      ]
    },
    {
      "cell_type": "code",
      "execution_count": null,
      "metadata": {
        "id": "_jGYS9YpFHK3"
      },
      "outputs": [],
      "source": [
        "class TokTok:\n",
        "\n",
        "    # Class Object Attribute\n",
        "    Wheels = 'Three'\n",
        "\n",
        "    def __init__(self,Name,Color):\n",
        "        self.Name = Name\n",
        "        self.Color = Color"
      ]
    },
    {
      "cell_type": "code",
      "execution_count": null,
      "metadata": {
        "id": "Y_YelEC0FHK5"
      },
      "outputs": [],
      "source": [
        "toktok_mo3taz= TokTok('ElShaba7','Black')"
      ]
    },
    {
      "cell_type": "code",
      "execution_count": null,
      "metadata": {
        "colab": {
          "base_uri": "https://localhost:8080/",
          "height": 34
        },
        "id": "kNyjzIe1FHK9",
        "outputId": "5d06ebf8-60b2-42e2-b12c-e168aa713920"
      },
      "outputs": [
        {
          "data": {
            "text/plain": [
              "'ElShaba7'"
            ]
          },
          "execution_count": 12,
          "metadata": {},
          "output_type": "execute_result"
        }
      ],
      "source": [
        "toktok_mo3taz.Name"
      ]
    },
    {
      "cell_type": "code",
      "execution_count": null,
      "metadata": {
        "colab": {
          "base_uri": "https://localhost:8080/",
          "height": 34
        },
        "id": "Xnd7SJBd0ewR",
        "outputId": "e11af2a0-79db-4c20-d058-f0187587a37c"
      },
      "outputs": [
        {
          "data": {
            "text/plain": [
              "'Black'"
            ]
          },
          "execution_count": 13,
          "metadata": {},
          "output_type": "execute_result"
        }
      ],
      "source": [
        "toktok_mo3taz.Color"
      ]
    },
    {
      "cell_type": "markdown",
      "metadata": {
        "id": "OBR9nzpyFHLB"
      },
      "source": [
        "Note that the Class Object Attribute is defined outside of any methods in the class. Also by convention, we place them first before the init."
      ]
    },
    {
      "cell_type": "code",
      "execution_count": null,
      "metadata": {
        "colab": {
          "base_uri": "https://localhost:8080/",
          "height": 34
        },
        "id": "bXP1A8duFHLB",
        "outputId": "86201cbd-e08f-4b07-f8c7-47ce25fa57e6"
      },
      "outputs": [
        {
          "data": {
            "text/plain": [
              "'Three'"
            ]
          },
          "execution_count": 14,
          "metadata": {},
          "output_type": "execute_result"
        }
      ],
      "source": [
        "toktok_mo3taz.Wheels"
      ]
    },
    {
      "cell_type": "markdown",
      "metadata": {
        "id": "3iHQ2AQoFHLE"
      },
      "source": [
        "## Methods\n",
        "\n",
        "Methods are functions defined inside the body of a class. They are used to perform operations with the attributes of our objects. Methods are a key concept of the OOP paradigm. They are essential to dividing responsibilities in programming, especially in large applications.\n",
        "\n",
        "You can basically think of methods as functions acting on an Object that take the Object itself into account through its *self* argument.\n",
        "\n",
        "Let's go through an example of creating a Circle class:"
      ]
    },
    {
      "cell_type": "code",
      "execution_count": null,
      "metadata": {
        "colab": {
          "base_uri": "https://localhost:8080/"
        },
        "id": "GCBC-ZUMFHLG",
        "outputId": "561d0f4b-a905-408e-a355-aea0cd9c0d36"
      },
      "outputs": [
        {
          "output_type": "stream",
          "name": "stdout",
          "text": [
            "Radius is:  1\n",
            "Area is:  3.14\n",
            "Circumference is:  6.28\n"
          ]
        }
      ],
      "source": [
        "class Circle:\n",
        "    pi = 3.14\n",
        "\n",
        "    # Circle gets instantiated with a radius (default is 1)\n",
        "    def __init__(self, radius=1):\n",
        "        self.radius = radius\n",
        "        self.area = radius * radius * Circle.pi\n",
        "\n",
        "    # Method for resetting Radius\n",
        "    def setRadius(self, new_radius):\n",
        "        self.radius = new_radius\n",
        "        self.area = new_radius * new_radius * self.pi\n",
        "\n",
        "    # Method for getting Circumference\n",
        "    def getCircumference(self):\n",
        "\n",
        "        return self.radius * self.pi * 2\n",
        "\n",
        "\n",
        "c = Circle()\n",
        "\n",
        "print('Radius is: ',c.radius)\n",
        "print('Area is: ',c.area)\n",
        "print('Circumference is: ',c.getCircumference())"
      ]
    },
    {
      "cell_type": "code",
      "source": [
        "c.radius"
      ],
      "metadata": {
        "colab": {
          "base_uri": "https://localhost:8080/"
        },
        "id": "ZHivYMQzYg0D",
        "outputId": "f2c55cbd-eaa2-4abf-907b-d76eefea0fd0"
      },
      "execution_count": null,
      "outputs": [
        {
          "output_type": "execute_result",
          "data": {
            "text/plain": [
              "1"
            ]
          },
          "metadata": {},
          "execution_count": 14
        }
      ]
    },
    {
      "cell_type": "code",
      "execution_count": null,
      "metadata": {
        "id": "rUZwceUjnm43"
      },
      "outputs": [],
      "source": [
        "# We have Circle A    radius  8  ,  Area ? , Circumference ?\n",
        "A= Circle (8)"
      ]
    },
    {
      "cell_type": "code",
      "execution_count": null,
      "metadata": {
        "colab": {
          "base_uri": "https://localhost:8080/"
        },
        "id": "JYBnun7yBahC",
        "outputId": "babadbb4-0db8-45c9-8f3a-ecb03e819463"
      },
      "outputs": [
        {
          "output_type": "stream",
          "name": "stdout",
          "text": [
            "Area is:  200.96\n",
            "Circumference is:  50.24\n"
          ]
        }
      ],
      "source": [
        "#print('Radius is: ',A.radius)\n",
        "print('Area is: ',A.area)\n",
        "print('Circumference is: ',A.getCircumference())"
      ]
    },
    {
      "cell_type": "code",
      "execution_count": null,
      "metadata": {
        "id": "TIaFtg-qjs4R"
      },
      "outputs": [],
      "source": [
        "c= Circle(100)\n",
        "\n"
      ]
    },
    {
      "cell_type": "markdown",
      "metadata": {
        "id": "Xi8yGqcCFHLJ"
      },
      "source": [
        "In the \\__init__ method above, in order to calculate the area attribute, we had to call Circle.pi. This is because the object does not yet have its own .pi attribute, so we call the Class Object Attribute pi instead.<br>\n",
        "In the setRadius method, however, we'll be working with an existing Circle object that does have its own pi attribute. Here we can use either Circle.pi or self.pi.<br><br>\n",
        "Now let's change the radius and see how that affects our Circle object:"
      ]
    },
    {
      "cell_type": "code",
      "execution_count": null,
      "metadata": {
        "id": "TGhO7a9HkJfd"
      },
      "outputs": [],
      "source": [
        "c.setRadius(1000)"
      ]
    },
    {
      "cell_type": "code",
      "execution_count": null,
      "metadata": {
        "colab": {
          "base_uri": "https://localhost:8080/"
        },
        "id": "HJrN9qqakQc9",
        "outputId": "60f0875c-b040-4dbb-a985-6207fb8ab8bc"
      },
      "outputs": [
        {
          "output_type": "execute_result",
          "data": {
            "text/plain": [
              "6280.0"
            ]
          },
          "metadata": {},
          "execution_count": 19
        }
      ],
      "source": [
        "c.getCircumference()"
      ]
    },
    {
      "cell_type": "code",
      "execution_count": null,
      "metadata": {
        "id": "IuMQxvYqFHLK",
        "outputId": "c4d5be23-5645-48c6-c540-901f1801d4bb",
        "colab": {
          "base_uri": "https://localhost:8080/"
        }
      },
      "outputs": [
        {
          "output_type": "stream",
          "name": "stdout",
          "text": [
            "Radius is:  2\n",
            "Area is:  12.56\n",
            "Circumference is:  12.56\n"
          ]
        }
      ],
      "source": [
        "c.setRadius(2)\n",
        "\n",
        "print('Radius is: ',c.radius)\n",
        "print('Area is: ',c.area)\n",
        "print('Circumference is: ',c.getCircumference())"
      ]
    },
    {
      "cell_type": "markdown",
      "metadata": {
        "id": "fYXum6vrFHLT"
      },
      "source": [
        "Great! Notice how we used self. notation to reference attributes of the class within the method calls. Review how the code above works and try creating your own method.\n",
        "\n",
        "## Inheritance\n",
        "\n",
        "Inheritance is a way to form new classes using classes that have already been defined. The newly formed classes are called derived classes, the classes that we derive from are called base classes. Important benefits of inheritance are code reuse and reduction of complexity of a program. The derived classes (descendants) override or extend the functionality of base classes (ancestors).\n",
        "\n",
        "Let's see an example by incorporating our previous work on the Dog class:"
      ]
    },
    {
      "cell_type": "code",
      "execution_count": null,
      "metadata": {
        "id": "htIztIZZFHLT"
      },
      "outputs": [],
      "source": [
        "class Animal:\n",
        "    def __init__(self):\n",
        "        print(\"Eats\")\n",
        "        print('Dies')\n",
        "        print('bygry')\n",
        "\n",
        "    def whoAmI(self):\n",
        "        print(\"Ana Who AM I  EL  OLA  YA GED3an\")\n",
        "\n",
        "    def eat(self):\n",
        "        print(\"Eating\")\n",
        "\n",
        "\n",
        "class Dog(Animal):\n",
        "    def __init__(self):\n",
        "        Animal.__init__(self)\n",
        "\n",
        "        print(\"Dog created\")\n",
        "    def whoAmI(self):\n",
        "      print('meow')"
      ]
    },
    {
      "cell_type": "code",
      "execution_count": null,
      "metadata": {
        "colab": {
          "base_uri": "https://localhost:8080/"
        },
        "id": "1lzjlCKhGf-r",
        "outputId": "4c5bf826-4420-40b5-d283-2cdacf4cf6c5"
      },
      "outputs": [
        {
          "output_type": "stream",
          "name": "stdout",
          "text": [
            "Eats\n",
            "Dies\n",
            "bygry\n"
          ]
        }
      ],
      "source": [
        "a=Animal()"
      ]
    },
    {
      "cell_type": "code",
      "execution_count": null,
      "metadata": {
        "colab": {
          "base_uri": "https://localhost:8080/"
        },
        "id": "RGgKuHnyk6JB",
        "outputId": "1484002d-05a3-4b07-bd76-5bdf801c896d"
      },
      "outputs": [
        {
          "output_type": "stream",
          "name": "stdout",
          "text": [
            "Eats\n",
            "Dies\n",
            "bygry\n",
            "Dog created\n"
          ]
        }
      ],
      "source": [
        "D= Dog()"
      ]
    },
    {
      "cell_type": "code",
      "execution_count": null,
      "metadata": {
        "colab": {
          "base_uri": "https://localhost:8080/"
        },
        "id": "kDXMHCmPljxt",
        "outputId": "f596c7dc-e799-46ac-cfae-b4e9ab70f7d0"
      },
      "outputs": [
        {
          "output_type": "stream",
          "name": "stdout",
          "text": [
            "Ana Who AM I  EL  OLA  YA GED3an\n"
          ]
        }
      ],
      "source": [
        "a.whoAmI()"
      ]
    },
    {
      "cell_type": "code",
      "execution_count": null,
      "metadata": {
        "colab": {
          "base_uri": "https://localhost:8080/"
        },
        "id": "3-ReMYQnlovO",
        "outputId": "b656c56f-3d96-43bd-d849-9276b3c74a9d"
      },
      "outputs": [
        {
          "output_type": "stream",
          "name": "stdout",
          "text": [
            "Eats\n",
            "Dies\n",
            "bygry\n",
            "Dog created\n"
          ]
        }
      ],
      "source": [
        "d=Dog()"
      ]
    },
    {
      "cell_type": "code",
      "execution_count": null,
      "metadata": {
        "colab": {
          "base_uri": "https://localhost:8080/"
        },
        "id": "qdQyU4jdFHLY",
        "outputId": "31fe50ef-1560-40d2-b8fe-f1fb5948ff3a"
      },
      "outputs": [
        {
          "output_type": "stream",
          "name": "stdout",
          "text": [
            "meow\n"
          ]
        }
      ],
      "source": [
        "d.whoAmI()"
      ]
    },
    {
      "cell_type": "code",
      "execution_count": null,
      "metadata": {
        "colab": {
          "base_uri": "https://localhost:8080/"
        },
        "id": "EInoE1eFFHLb",
        "outputId": "b01ca0c8-fb82-4c71-8aa6-4059a1585d1c"
      },
      "outputs": [
        {
          "output_type": "stream",
          "name": "stdout",
          "text": [
            "Eating\n"
          ]
        }
      ],
      "source": [
        "d.eat()"
      ]
    },
    {
      "cell_type": "code",
      "execution_count": null,
      "metadata": {
        "id": "MaIb0o9qyxQE"
      },
      "outputs": [],
      "source": [
        "class Animal:\n",
        "\n",
        "    def __init__(self):\n",
        "        print(\"Animal created\")\n",
        "\n",
        "    def whoAmI(self):\n",
        "        print(\"Animal\")\n",
        "\n",
        "    def eat(self):\n",
        "        print(\"Eating\")\n",
        "\n",
        "\n",
        "class Dog(Animal):\n",
        "    def __init__(self):\n",
        "        Animal.__init__(self)\n",
        "        print(\"Dog created\")\n",
        "    def whoAmI(self):\n",
        "      print(\"Dog\")\n",
        "\n",
        "    def eat(self):\n",
        "      print(\"Let me Eat\")\n",
        "\n",
        "    def bark(self):\n",
        "      print (' هو هو هو')\n",
        "\n"
      ]
    },
    {
      "cell_type": "code",
      "execution_count": null,
      "metadata": {
        "colab": {
          "base_uri": "https://localhost:8080/"
        },
        "id": "IlRqvDpZyzWE",
        "outputId": "f51dfa79-a525-4abc-99e5-ff732df2d8ea"
      },
      "outputs": [
        {
          "output_type": "stream",
          "name": "stdout",
          "text": [
            "Animal created\n",
            "Dog created\n"
          ]
        }
      ],
      "source": [
        "d = Dog()"
      ]
    },
    {
      "cell_type": "code",
      "execution_count": null,
      "metadata": {
        "colab": {
          "base_uri": "https://localhost:8080/"
        },
        "id": "dwnYDmAXy1LR",
        "outputId": "8c86eb85-ecac-474a-9729-8272d2eb280d"
      },
      "outputs": [
        {
          "output_type": "stream",
          "name": "stdout",
          "text": [
            "Dog\n"
          ]
        }
      ],
      "source": [
        "d.whoAmI()"
      ]
    },
    {
      "cell_type": "code",
      "execution_count": null,
      "metadata": {
        "colab": {
          "base_uri": "https://localhost:8080/"
        },
        "id": "-u8UwkW_ziiV",
        "outputId": "9ef2a463-e6ca-44ed-b5e2-30705bab410c"
      },
      "outputs": [
        {
          "output_type": "stream",
          "name": "stdout",
          "text": [
            " هو هو هو\n"
          ]
        }
      ],
      "source": [
        "d.bark()"
      ]
    },
    {
      "cell_type": "markdown",
      "metadata": {
        "id": "w2ct1aNPFHLm"
      },
      "source": [
        "In this example, we have two classes: Animal and Dog. The Animal is the base class, the Dog is the derived class.\n",
        "\n",
        "The derived class inherits the functionality of the base class.\n",
        "\n",
        "* It is shown by the eat() method.\n",
        "\n",
        "The derived class modifies existing behavior of the base class.\n",
        "\n",
        "* shown by the whoAmI() method.\n",
        "\n",
        "Finally, the derived class extends the functionality of the base class, by defining a new bark() method."
      ]
    },
    {
      "cell_type": "markdown",
      "metadata": {
        "id": "9QJjxCoVFHLm"
      },
      "source": [
        "## Polymorphism\n",
        "\n",
        "We've learned that while functions can take in different arguments, methods belong to the objects they act on. In Python, *polymorphism* refers to the way in which different object classes can share the same method name, and those methods can be called from the same place even though a variety of different objects might be passed in. The best way to explain this is by example:"
      ]
    },
    {
      "cell_type": "code",
      "execution_count": null,
      "metadata": {
        "id": "5m8MvO_UFHLn",
        "outputId": "d2e53213-d9bc-4b0f-8a69-e76601932e73",
        "colab": {
          "base_uri": "https://localhost:8080/"
        }
      },
      "outputs": [
        {
          "output_type": "stream",
          "name": "stdout",
          "text": [
            "Niko says Woof!\n",
            "Felix says Meow!\n"
          ]
        }
      ],
      "source": [
        "class Dog:\n",
        "    def __init__(self, name):\n",
        "        self.name = name\n",
        "\n",
        "    def speak(self):\n",
        "        return self.name+' says Woof!'\n",
        "\n",
        "class Cat:\n",
        "    def __init__(self, name):\n",
        "        self.name = name\n",
        "\n",
        "    def speak(self):\n",
        "        return self.name+' says Meow!'\n",
        "\n",
        "niko = Dog('Niko')\n",
        "felix = Cat('Felix')\n",
        "\n",
        "print(niko.speak())\n",
        "print(felix.speak())"
      ]
    },
    {
      "cell_type": "markdown",
      "metadata": {
        "id": "ks0lvmWPFHLp"
      },
      "source": [
        "Here we have a Dog class and a Cat class, and each has a `.speak()` method. When called, each object's `.speak()` method returns a result unique to the object.\n",
        "\n",
        "There a few different ways to demonstrate polymorphism. First, with a for loop:"
      ]
    },
    {
      "cell_type": "code",
      "execution_count": null,
      "metadata": {
        "id": "GdOc0sM4FHLq",
        "outputId": "69d46f22-383f-4ef1-ff52-25d77478c66b",
        "colab": {
          "base_uri": "https://localhost:8080/"
        }
      },
      "outputs": [
        {
          "output_type": "stream",
          "name": "stdout",
          "text": [
            "Niko says Woof!\n",
            "Felix says Meow!\n"
          ]
        }
      ],
      "source": [
        "for pet in [niko,felix]:\n",
        "    print(pet.speak())"
      ]
    },
    {
      "cell_type": "markdown",
      "metadata": {
        "id": "qW7FdQVEFHLs"
      },
      "source": [
        "Another is with functions:"
      ]
    },
    {
      "cell_type": "code",
      "execution_count": null,
      "metadata": {
        "id": "Rsc9qdITFHLv",
        "outputId": "819945d3-aa8b-4906-e671-81e836091a34",
        "colab": {
          "base_uri": "https://localhost:8080/"
        }
      },
      "outputs": [
        {
          "output_type": "stream",
          "name": "stdout",
          "text": [
            "Niko says Woof!\n",
            "Felix says Meow!\n"
          ]
        }
      ],
      "source": [
        "def pet_speak(pet):\n",
        "    print(pet.speak())\n",
        "\n",
        "pet_speak(niko)\n",
        "pet_speak(felix)"
      ]
    },
    {
      "cell_type": "markdown",
      "metadata": {
        "id": "bHOypM2tFHL2"
      },
      "source": [
        "## Special Methods\n",
        "Finally let's go over special methods. Classes in Python can implement certain operations with special method names. These methods are not actually called directly but by Python specific language syntax. For example let's create a Book class:"
      ]
    },
    {
      "cell_type": "code",
      "execution_count": null,
      "metadata": {
        "id": "JhI6r78KFHL3"
      },
      "outputs": [],
      "source": [
        "class Book:\n",
        "    def __init__(self, title, author, pages):\n",
        "        print(\"A book is created\")\n",
        "        self.title = title\n",
        "        self.author = author\n",
        "        self.pages = pages\n",
        "\n",
        "    def __str__(self):\n",
        "        return \"Title: %s, author: %s, pages: %s\" %(self.title, self.author, self.pages)\n",
        "\n",
        "    def __len__(self):\n",
        "        return self.pages\n",
        "\n",
        "    def __del__(self):\n",
        "        print(\"A book is destroyed\")"
      ]
    },
    {
      "cell_type": "code",
      "execution_count": null,
      "metadata": {
        "colab": {
          "base_uri": "https://localhost:8080/"
        },
        "id": "it3zQ_ThFHL5",
        "outputId": "61df8a37-99c5-4d6d-b890-8cda3192f766"
      },
      "outputs": [
        {
          "output_type": "stream",
          "name": "stdout",
          "text": [
            "A book is created\n",
            "Title: Python Rocks!, author: Jose Portilla, pages: 159\n",
            "159\n",
            "A book is destroyed\n"
          ]
        }
      ],
      "source": [
        "book = Book(\"Python Rocks!\", \"Jose Portilla\", 159)\n",
        "\n",
        "#Special Methods\n",
        "print(book)\n",
        "print(len(book))\n",
        "del book"
      ]
    },
    {
      "cell_type": "markdown",
      "metadata": {
        "id": "rKiNNZBfFHL7"
      },
      "source": [
        "    The __init__(), __str__(), __len__() and __del__() methods\n",
        "These special methods are defined by their use of underscores. They allow us to use Python specific functions on objects created through our class.\n"
      ]
    },
    {
      "cell_type": "markdown",
      "metadata": {
        "id": "Tr-hliCr9hz-"
      },
      "source": [
        "#Assignment\n",
        "\n",
        "#### Problem 1\n",
        "Fill in the Line class methods to accept coordinates as a pair of tuples and return the slope and distance of the line."
      ]
    },
    {
      "cell_type": "code",
      "execution_count": null,
      "metadata": {
        "id": "4x4e6S5g9hz_"
      },
      "outputs": [],
      "source": [
        "class Line:\n",
        "\n",
        "    def __init__(self,coor1,coor2):\n",
        "        self.coor1=coor1\n",
        "        self.coor2=coor2\n",
        "\n",
        "    def distance(self):\n",
        "       return ((self.coor2[0] - self.coor1[0])**2 +  (self.coor2[1] - self.coor1[1])**2 )**0.5\n",
        "\n",
        "    def slope(self):\n",
        "       return (self.coor2[1] - self.coor1[1])/(self.coor2[0] - self.coor1[0])"
      ]
    },
    {
      "cell_type": "code",
      "execution_count": null,
      "metadata": {
        "id": "czRLpux79h0C"
      },
      "outputs": [],
      "source": [
        "# EXAMPLE OUTPUT\n",
        "\n",
        "coordinate1 = (3,2)\n",
        "coordinate2 = (8,10)\n",
        "\n",
        "li = Line(coordinate1,coordinate2)"
      ]
    },
    {
      "cell_type": "code",
      "execution_count": null,
      "metadata": {
        "id": "X1CwJyCo9h0E",
        "colab": {
          "base_uri": "https://localhost:8080/"
        },
        "outputId": "888a1632-f07c-4519-f207-c44ccbf3fddd"
      },
      "outputs": [
        {
          "output_type": "execute_result",
          "data": {
            "text/plain": [
              "9.433981132056603"
            ]
          },
          "metadata": {},
          "execution_count": 39
        }
      ],
      "source": [
        "li.distance()"
      ]
    },
    {
      "cell_type": "code",
      "execution_count": null,
      "metadata": {
        "id": "gkB8zkNE9h0H",
        "colab": {
          "base_uri": "https://localhost:8080/"
        },
        "outputId": "6453bf9f-9c12-4091-eba8-5717e7e35811"
      },
      "outputs": [
        {
          "output_type": "execute_result",
          "data": {
            "text/plain": [
              "1.6"
            ]
          },
          "metadata": {},
          "execution_count": 40
        }
      ],
      "source": [
        "li.slope()"
      ]
    },
    {
      "cell_type": "markdown",
      "metadata": {
        "id": "lwpxBizW9h0K"
      },
      "source": [
        "________\n",
        "#### Problem 2"
      ]
    },
    {
      "cell_type": "markdown",
      "metadata": {
        "id": "egfuLJ8J9h0K"
      },
      "source": [
        "Fill in the class"
      ]
    },
    {
      "cell_type": "code",
      "execution_count": null,
      "metadata": {
        "id": "FU-08QyB9h0L"
      },
      "outputs": [],
      "source": [
        "class Cylinder:\n",
        "\n",
        "    def __init__(self,height=1,radius=1):\n",
        "      self.height = height\n",
        "      self.radius = radius\n",
        "\n",
        "    def volume(self):\n",
        "        return (3.14 * self.height * (self.radius)**2)\n",
        "\n",
        "    def surface_area(self):\n",
        "        return ((2*3.14*self.radius)*(self.height + self.radius))\n"
      ]
    },
    {
      "cell_type": "code",
      "execution_count": null,
      "metadata": {
        "id": "NYwULuac9h0N"
      },
      "outputs": [],
      "source": [
        "# EXAMPLE OUTPUT\n",
        "c = Cylinder(2,3)"
      ]
    },
    {
      "cell_type": "code",
      "execution_count": null,
      "metadata": {
        "id": "r_BLWcys9h0P",
        "colab": {
          "base_uri": "https://localhost:8080/"
        },
        "outputId": "d52cb112-1b3a-414d-b857-eb770cdd8a5e"
      },
      "outputs": [
        {
          "output_type": "execute_result",
          "data": {
            "text/plain": [
              "56.52"
            ]
          },
          "metadata": {},
          "execution_count": 43
        }
      ],
      "source": [
        "c.volume()"
      ]
    },
    {
      "cell_type": "code",
      "execution_count": null,
      "metadata": {
        "id": "NRhVFsca9h0R",
        "colab": {
          "base_uri": "https://localhost:8080/"
        },
        "outputId": "06bc0d1e-6911-4d46-f30d-c488af0d943f"
      },
      "outputs": [
        {
          "output_type": "execute_result",
          "data": {
            "text/plain": [
              "94.2"
            ]
          },
          "metadata": {},
          "execution_count": 44
        }
      ],
      "source": [
        "c.surface_area()"
      ]
    },
    {
      "cell_type": "markdown",
      "metadata": {
        "id": "YZ7Xuzf7-Dgf"
      },
      "source": [
        "________\n",
        "#### Problem 3\n",
        "\n",
        "Build Your \" Data Explorer in OOP style \""
      ]
    },
    {
      "cell_type": "code",
      "execution_count": null,
      "metadata": {
        "id": "2p49KTk2-EZh"
      },
      "outputs": [],
      "source": []
    }
  ],
  "metadata": {
    "colab": {
      "provenance": []
    },
    "kernelspec": {
      "display_name": "Python 3 (ipykernel)",
      "language": "python",
      "name": "python3"
    },
    "language_info": {
      "codemirror_mode": {
        "name": "ipython",
        "version": 3
      },
      "file_extension": ".py",
      "mimetype": "text/x-python",
      "name": "python",
      "nbconvert_exporter": "python",
      "pygments_lexer": "ipython3",
      "version": "3.9.7"
    }
  },
  "nbformat": 4,
  "nbformat_minor": 0
}