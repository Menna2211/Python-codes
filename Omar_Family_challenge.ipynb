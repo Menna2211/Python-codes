{
  "nbformat": 4,
  "nbformat_minor": 0,
  "metadata": {
    "colab": {
      "provenance": []
    },
    "kernelspec": {
      "name": "python3",
      "display_name": "Python 3"
    },
    "language_info": {
      "name": "python"
    }
  },
  "cells": [
    {
      "cell_type": "markdown",
      "source": [
        "**Create 3 Files :-**\n",
        "\n",
        "\n",
        "**file1** named omar.py that Generate a list with 15 Random Number between Range 10 -> 50 and save it as a list with name omar_list.\n"
      ],
      "metadata": {
        "id": "yutDJPI5LV5i"
      }
    },
    {
      "cell_type": "code",
      "execution_count": null,
      "metadata": {
        "id": "ZDu2iU5yLOJZ",
        "colab": {
          "base_uri": "https://localhost:8080/"
        },
        "outputId": "5d97a41a-c6bb-442b-ac04-827a7e1918f3"
      },
      "outputs": [
        {
          "output_type": "stream",
          "name": "stdout",
          "text": [
            "Writing omar.py\n"
          ]
        }
      ],
      "source": [
        "%%writefile omar.py\n",
        "import random\n",
        "def omar_list(x):\n",
        "  omar_lt=[]\n",
        "  lst_1=[ omar_lt.append(random.randrange(10 , x)) for z in range(0, 15) ]\n",
        "  return(omar_lt)"
      ]
    },
    {
      "cell_type": "code",
      "source": [
        "from omar import omar_list\n",
        "o=omar_list(50)\n",
        "o"
      ],
      "metadata": {
        "colab": {
          "base_uri": "https://localhost:8080/"
        },
        "id": "p8ABAzNJApDO",
        "outputId": "c0134432-c8d4-4906-f322-cc7a033671e8"
      },
      "execution_count": null,
      "outputs": [
        {
          "output_type": "execute_result",
          "data": {
            "text/plain": [
              "[13, 26, 48, 49, 16, 37, 23, 48, 19, 13, 24, 48, 28, 42, 32]"
            ]
          },
          "metadata": {},
          "execution_count": 2
        }
      ]
    },
    {
      "cell_type": "markdown",
      "source": [
        "**file 2** named abo-omar.py that calls omar.py and add 5 to each element in omar's list and call it abo_omar_list.*italicised text*"
      ],
      "metadata": {
        "id": "0kllCdxfzOPm"
      }
    },
    {
      "cell_type": "code",
      "source": [
        "%%writefile abo_omar.py\n",
        "from omar import omar_list\n",
        "def abo_omar_list(y):\n",
        "    lt=omar_list(y)\n",
        "    abo_omar_lt=[x+5 for x in lt]\n",
        "    return(abo_omar_lt,lt)"
      ],
      "metadata": {
        "colab": {
          "base_uri": "https://localhost:8080/"
        },
        "id": "_SO5q1vR7rPJ",
        "outputId": "3f8ac71b-74ef-4b04-820a-053507adc48f"
      },
      "execution_count": null,
      "outputs": [
        {
          "output_type": "stream",
          "name": "stdout",
          "text": [
            "Writing abo_omar.py\n"
          ]
        }
      ]
    },
    {
      "cell_type": "code",
      "source": [
        "from abo_omar import abo_omar_list\n",
        "ab , o =abo_omar_list(50)\n",
        "print('omar_list is {}'.format(o))\n",
        "print('abo_omar_list is {}'.format(ab))"
      ],
      "metadata": {
        "colab": {
          "base_uri": "https://localhost:8080/"
        },
        "id": "NhG2CtcfBsDt",
        "outputId": "ceefa8c4-509b-428a-d710-0ce59ec5804a"
      },
      "execution_count": null,
      "outputs": [
        {
          "output_type": "stream",
          "name": "stdout",
          "text": [
            "omar_list is [14, 34, 35, 13, 15, 48, 21, 15, 35, 39, 31, 45, 35, 40, 42]\n",
            "abo_omar_list is [19, 39, 40, 18, 20, 53, 26, 20, 40, 44, 36, 50, 40, 45, 47]\n"
          ]
        }
      ]
    },
    {
      "cell_type": "markdown",
      "source": [
        "**file 3** named om-omar.py that changes everything her family did by asking the user to give a number between 100 -> 200 and use it to modify the Range of omar_list and call abo-omar.py and name the output list as om_omar_lis"
      ],
      "metadata": {
        "id": "yUnetj9kzTC-"
      }
    },
    {
      "cell_type": "code",
      "source": [
        "%%writefile om_omar.py\n",
        "from omar import omar_list\n",
        "from abo_omar import abo_omar_list\n",
        "def om_omar_list():\n",
        "    num = int(input(\"Please pick a number from 100 to 200 again....  \"))\n",
        "    om_omar_lt=abo_omar_list(num)\n",
        "    return(om_omar_lt)\n"
      ],
      "metadata": {
        "colab": {
          "base_uri": "https://localhost:8080/"
        },
        "id": "HNxKxl8IC83d",
        "outputId": "b401f060-d5ce-492b-da99-e411ed0a4e6c"
      },
      "execution_count": null,
      "outputs": [
        {
          "output_type": "stream",
          "name": "stdout",
          "text": [
            "Writing om_omar.py\n"
          ]
        }
      ]
    },
    {
      "cell_type": "code",
      "source": [
        "from om_omar import om_omar_list\n",
        "om=om_omar_list()\n",
        "om"
      ],
      "metadata": {
        "colab": {
          "base_uri": "https://localhost:8080/"
        },
        "id": "eYduC8woxE-h",
        "outputId": "a5d12c53-440b-45bb-dd60-19d8d1d4900c"
      },
      "execution_count": null,
      "outputs": [
        {
          "name": "stdout",
          "output_type": "stream",
          "text": [
            "Please pick a number from 100 to 200 again....160\n"
          ]
        },
        {
          "output_type": "execute_result",
          "data": {
            "text/plain": [
              "([74, 39, 96, 113, 31, 107, 18, 113, 125, 50, 71, 92, 37, 164, 59],\n",
              " [69, 34, 91, 108, 26, 102, 13, 108, 120, 45, 66, 87, 32, 159, 54])"
            ]
          },
          "metadata": {},
          "execution_count": 6
        }
      ]
    }
  ]
}